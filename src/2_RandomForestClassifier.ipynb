{
 "cells": [
  {
   "cell_type": "code",
   "execution_count": 17,
   "metadata": {},
   "outputs": [],
   "source": [
    "import pandas as pd\n",
    "import numpy as np\n",
    "from scipy.stats import randint\n",
    "from sklearn.ensemble import RandomForestClassifier\n",
    "from sklearn.metrics import classification_report\n",
    "from sklearn.model_selection import train_test_split, RandomizedSearchCV\n",
    "from sklearn.feature_extraction.text import TfidfVectorizer\n",
    "from time import time"
   ]
  },
  {
   "cell_type": "code",
   "execution_count": 18,
   "metadata": {},
   "outputs": [],
   "source": [
    "bbc_data = pd.read_csv(\"../data/clean_bbc_classification.csv\")\n",
    "sarc_data = pd.read_csv(\"../data/clean_sarcasm_classification.csv\")"
   ]
  },
  {
   "cell_type": "markdown",
   "metadata": {},
   "source": [
    "### RFC on BBC News Classification\n",
    "#### Simple RFC"
   ]
  },
  {
   "cell_type": "code",
   "execution_count": 25,
   "metadata": {},
   "outputs": [],
   "source": [
    "X = bbc_data['text']\n",
    "y = bbc_data['label_ids']\n",
    "\n",
    "X_train, X_test, y_train, y_test = train_test_split(X, y, test_size=.2, random_state=123)\n",
    "\n",
    "vectorizer = TfidfVectorizer()\n",
    "X_train = vectorizer.fit_transform(X_train)\n",
    "X_test = vectorizer.transform(X_test)"
   ]
  },
  {
   "cell_type": "code",
   "execution_count": 26,
   "metadata": {},
   "outputs": [
    {
     "data": {
      "text/html": [
       "<div>\n",
       "<style scoped>\n",
       "    .dataframe tbody tr th:only-of-type {\n",
       "        vertical-align: middle;\n",
       "    }\n",
       "\n",
       "    .dataframe tbody tr th {\n",
       "        vertical-align: top;\n",
       "    }\n",
       "\n",
       "    .dataframe thead th {\n",
       "        text-align: right;\n",
       "    }\n",
       "</style>\n",
       "<table border=\"1\" class=\"dataframe\">\n",
       "  <thead>\n",
       "    <tr style=\"text-align: right;\">\n",
       "      <th></th>\n",
       "      <th>labels</th>\n",
       "      <th>label_ids</th>\n",
       "    </tr>\n",
       "  </thead>\n",
       "  <tbody>\n",
       "    <tr>\n",
       "      <th>0</th>\n",
       "      <td>entertainment</td>\n",
       "      <td>0</td>\n",
       "    </tr>\n",
       "    <tr>\n",
       "      <th>386</th>\n",
       "      <td>business</td>\n",
       "      <td>1</td>\n",
       "    </tr>\n",
       "    <tr>\n",
       "      <th>896</th>\n",
       "      <td>sport</td>\n",
       "      <td>2</td>\n",
       "    </tr>\n",
       "    <tr>\n",
       "      <th>1407</th>\n",
       "      <td>politics</td>\n",
       "      <td>3</td>\n",
       "    </tr>\n",
       "    <tr>\n",
       "      <th>1824</th>\n",
       "      <td>tech</td>\n",
       "      <td>4</td>\n",
       "    </tr>\n",
       "  </tbody>\n",
       "</table>\n",
       "</div>"
      ],
      "text/plain": [
       "             labels  label_ids\n",
       "0     entertainment          0\n",
       "386        business          1\n",
       "896           sport          2\n",
       "1407       politics          3\n",
       "1824           tech          4"
      ]
     },
     "execution_count": 26,
     "metadata": {},
     "output_type": "execute_result"
    }
   ],
   "source": [
    "bbc_data[['labels', 'label_ids']].drop_duplicates()"
   ]
  },
  {
   "cell_type": "code",
   "execution_count": 27,
   "metadata": {},
   "outputs": [
    {
     "name": "stdout",
     "output_type": "stream",
     "text": [
      "Simple Random Forest Classifier\n",
      "              precision    recall  f1-score   support\n",
      "\n",
      "           0       0.95      0.95      0.95        65\n",
      "           1       0.95      0.97      0.96       103\n",
      "           2       0.99      1.00      1.00       114\n",
      "           3       0.99      0.95      0.97        88\n",
      "           4       0.99      0.99      0.99        75\n",
      "\n",
      "    accuracy                           0.98       445\n",
      "   macro avg       0.97      0.97      0.97       445\n",
      "weighted avg       0.98      0.98      0.98       445\n",
      "\n",
      "Runtime: 3.13 seconds\n"
     ]
    }
   ],
   "source": [
    "t0 = time()\n",
    "rfc = RandomForestClassifier(n_jobs=-1)\n",
    "rfc.fit(X_train, y_train)\n",
    "preds = rfc.predict(X_test)\n",
    "print(\"Simple Random Forest Classifier\")\n",
    "print(classification_report(y_test, preds))\n",
    "t1 = time()\n",
    "runtime_rfc_simple = round(t1-t0, 2)\n",
    "print(f\"Runtime: {runtime_rfc_simple} seconds\")\n",
    "performance_rfc_simple = classification_report(y_test, preds, output_dict=True)"
   ]
  },
  {
   "cell_type": "code",
   "execution_count": 31,
   "metadata": {},
   "outputs": [
    {
     "data": {
      "text/html": [
       "<div>\n",
       "<style scoped>\n",
       "    .dataframe tbody tr th:only-of-type {\n",
       "        vertical-align: middle;\n",
       "    }\n",
       "\n",
       "    .dataframe tbody tr th {\n",
       "        vertical-align: top;\n",
       "    }\n",
       "\n",
       "    .dataframe thead th {\n",
       "        text-align: right;\n",
       "    }\n",
       "</style>\n",
       "<table border=\"1\" class=\"dataframe\">\n",
       "  <thead>\n",
       "    <tr style=\"text-align: right;\">\n",
       "      <th></th>\n",
       "      <th>Feature</th>\n",
       "      <th>Importance</th>\n",
       "    </tr>\n",
       "  </thead>\n",
       "  <tbody>\n",
       "    <tr>\n",
       "      <th>6372</th>\n",
       "      <td>company</td>\n",
       "      <td>0.009735</td>\n",
       "    </tr>\n",
       "    <tr>\n",
       "      <th>18468</th>\n",
       "      <td>party</td>\n",
       "      <td>0.008779</td>\n",
       "    </tr>\n",
       "    <tr>\n",
       "      <th>11500</th>\n",
       "      <td>government</td>\n",
       "      <td>0.007760</td>\n",
       "    </tr>\n",
       "    <tr>\n",
       "      <th>11017</th>\n",
       "      <td>game</td>\n",
       "      <td>0.007230</td>\n",
       "    </tr>\n",
       "    <tr>\n",
       "      <th>16790</th>\n",
       "      <td>mr</td>\n",
       "      <td>0.006964</td>\n",
       "    </tr>\n",
       "    <tr>\n",
       "      <th>...</th>\n",
       "      <td>...</td>\n",
       "      <td>...</td>\n",
       "    </tr>\n",
       "    <tr>\n",
       "      <th>11061</th>\n",
       "      <td>garish</td>\n",
       "      <td>0.000000</td>\n",
       "    </tr>\n",
       "    <tr>\n",
       "      <th>11060</th>\n",
       "      <td>gargantuan</td>\n",
       "      <td>0.000000</td>\n",
       "    </tr>\n",
       "    <tr>\n",
       "      <th>11059</th>\n",
       "      <td>garfunkel</td>\n",
       "      <td>0.000000</td>\n",
       "    </tr>\n",
       "    <tr>\n",
       "      <th>11056</th>\n",
       "      <td>gardner</td>\n",
       "      <td>0.000000</td>\n",
       "    </tr>\n",
       "    <tr>\n",
       "      <th>27954</th>\n",
       "      <td>zvyagintsev</td>\n",
       "      <td>0.000000</td>\n",
       "    </tr>\n",
       "  </tbody>\n",
       "</table>\n",
       "<p>27955 rows × 2 columns</p>\n",
       "</div>"
      ],
      "text/plain": [
       "           Feature  Importance\n",
       "6372       company    0.009735\n",
       "18468        party    0.008779\n",
       "11500   government    0.007760\n",
       "11017         game    0.007230\n",
       "16790           mr    0.006964\n",
       "...            ...         ...\n",
       "11061       garish    0.000000\n",
       "11060   gargantuan    0.000000\n",
       "11059    garfunkel    0.000000\n",
       "11056      gardner    0.000000\n",
       "27954  zvyagintsev    0.000000\n",
       "\n",
       "[27955 rows x 2 columns]"
      ]
     },
     "execution_count": 31,
     "metadata": {},
     "output_type": "execute_result"
    }
   ],
   "source": [
    "importances_df = pd.DataFrame({'Feature': vectorizer.get_feature_names_out(), 'Importance': rfc.feature_importances_}).sort_values(by='Importance', ascending=False)\n",
    "importances_df"
   ]
  },
  {
   "cell_type": "code",
   "execution_count": 41,
   "metadata": {},
   "outputs": [
    {
     "data": {
      "image/png": "[encoded data removed]",
      "text/plain": [
       "<Figure size 1000x800 with 1 Axes>"
      ]
     },
     "metadata": {},
     "output_type": "display_data"
    }
   ],
   "source": [
    "import matplotlib.pyplot as plt\n",
    "\n",
    "plt.figure(figsize=(10, 8))  # Adjust the size to fit your needs\n",
    "plt.barh(importances_df['Feature'][:20], importances_df['Importance'][:20])  # Top 20 features\n",
    "plt.xlabel('Importance')\n",
    "plt.ylabel('Features')\n",
    "plt.title('Top 20 Important Features from Random Forest (BBC Data)')\n",
    "plt.gca().invert_yaxis()"
   ]
  },
  {
   "cell_type": "code",
   "execution_count": 38,
   "metadata": {},
   "outputs": [
    {
     "data": {
      "text/html": [
       "<div>\n",
       "<style scoped>\n",
       "    .dataframe tbody tr th:only-of-type {\n",
       "        vertical-align: middle;\n",
       "    }\n",
       "\n",
       "    .dataframe tbody tr th {\n",
       "        vertical-align: top;\n",
       "    }\n",
       "\n",
       "    .dataframe thead th {\n",
       "        text-align: right;\n",
       "    }\n",
       "</style>\n",
       "<table border=\"1\" class=\"dataframe\">\n",
       "  <thead>\n",
       "    <tr style=\"text-align: right;\">\n",
       "      <th></th>\n",
       "      <th>Model</th>\n",
       "      <th>Runtime</th>\n",
       "      <th>Accuracy</th>\n",
       "      <th>F1</th>\n",
       "      <th>data</th>\n",
       "    </tr>\n",
       "  </thead>\n",
       "  <tbody>\n",
       "    <tr>\n",
       "      <th>0</th>\n",
       "      <td>Decision Tree</td>\n",
       "      <td>0.70</td>\n",
       "      <td>0.840449</td>\n",
       "      <td>0.840706</td>\n",
       "      <td>bbc news</td>\n",
       "    </tr>\n",
       "    <tr>\n",
       "      <th>1</th>\n",
       "      <td>Decision Tree fine-tuned</td>\n",
       "      <td>14.45</td>\n",
       "      <td>0.817978</td>\n",
       "      <td>0.822761</td>\n",
       "      <td>bbc news</td>\n",
       "    </tr>\n",
       "    <tr>\n",
       "      <th>2</th>\n",
       "      <td>Decision Tree</td>\n",
       "      <td>11.28</td>\n",
       "      <td>0.725891</td>\n",
       "      <td>0.725137</td>\n",
       "      <td>sarcasm detection</td>\n",
       "    </tr>\n",
       "    <tr>\n",
       "      <th>3</th>\n",
       "      <td>Decision Tree fine-tuned</td>\n",
       "      <td>58.69</td>\n",
       "      <td>0.629804</td>\n",
       "      <td>0.590813</td>\n",
       "      <td>sarcasm detection</td>\n",
       "    </tr>\n",
       "    <tr>\n",
       "      <th>4</th>\n",
       "      <td>Random Forest</td>\n",
       "      <td>3.13</td>\n",
       "      <td>0.975281</td>\n",
       "      <td>0.975275</td>\n",
       "      <td>bbc news</td>\n",
       "    </tr>\n",
       "  </tbody>\n",
       "</table>\n",
       "</div>"
      ],
      "text/plain": [
       "                      Model  Runtime  Accuracy        F1               data\n",
       "0             Decision Tree     0.70  0.840449  0.840706           bbc news\n",
       "1  Decision Tree fine-tuned    14.45  0.817978  0.822761           bbc news\n",
       "2             Decision Tree    11.28  0.725891  0.725137  sarcasm detection\n",
       "3  Decision Tree fine-tuned    58.69  0.629804  0.590813  sarcasm detection\n",
       "4             Random Forest     3.13  0.975281  0.975275           bbc news"
      ]
     },
     "execution_count": 38,
     "metadata": {},
     "output_type": "execute_result"
    }
   ],
   "source": [
    "data = pd.read_csv(\"../data/evaluation_data.csv\")\n",
    "data = pd.concat([data,\n",
    "                  pd.DataFrame({\n",
    "                      'Model': ['Random Forest'],\n",
    "                      'Runtime': [runtime_rfc_simple],\n",
    "                      'Accuracy': [performance_rfc_simple['accuracy']],\n",
    "                      'F1': [performance_rfc_simple['weighted avg']['f1-score']],\n",
    "                      'data': ['bbc news']\n",
    "                  })], ignore_index=True)\n",
    "data"
   ]
  },
  {
   "cell_type": "markdown",
   "metadata": {},
   "source": [
    "**Given stunning results on simple Random Forest, we will not fine-tune the model on this dataset**\n",
    "\n",
    "### RFC on Sarcasm Detection\n",
    "#### Simple RFC"
   ]
  },
  {
   "cell_type": "code",
   "execution_count": 39,
   "metadata": {},
   "outputs": [],
   "source": [
    "sarc_data = sarc_data.dropna()\n",
    "X = sarc_data['text']\n",
    "y = sarc_data['is_sarcastic']\n",
    "\n",
    "X_train, X_test, y_train, y_test = train_test_split(X, y, test_size=.2, random_state=123)\n",
    "\n",
    "vectorizer = TfidfVectorizer()\n",
    "X_train = vectorizer.fit_transform(X_train)\n",
    "X_test = vectorizer.transform(X_test)"
   ]
  },
  {
   "cell_type": "code",
   "execution_count": 40,
   "metadata": {},
   "outputs": [
    {
     "name": "stdout",
     "output_type": "stream",
     "text": [
      "Simple Random Forest Classifier\n",
      "              precision    recall  f1-score   support\n",
      "\n",
      "           0       0.74      0.85      0.79      2978\n",
      "           1       0.80      0.67      0.73      2746\n",
      "\n",
      "    accuracy                           0.76      5724\n",
      "   macro avg       0.77      0.76      0.76      5724\n",
      "weighted avg       0.77      0.76      0.76      5724\n",
      "\n",
      "Runtime: 63.46 seconds\n"
     ]
    }
   ],
   "source": [
    "t0 = time()\n",
    "rfc = RandomForestClassifier(n_jobs=-1)\n",
    "rfc.fit(X_train, y_train)\n",
    "preds = rfc.predict(X_test)\n",
    "print(\"Simple Random Forest Classifier\")\n",
    "print(classification_report(y_test, preds))\n",
    "t1 = time()\n",
    "runtime_rfc_simple = round(t1-t0, 2)\n",
    "print(f\"Runtime: {runtime_rfc_simple} seconds\")\n",
    "performance_rfc_simple = classification_report(y_test, preds, output_dict=True)"
   ]
  },
  {
   "cell_type": "markdown",
   "metadata": {},
   "source": [
    "#### Fine-tuned RFC"
   ]
  },
  {
   "cell_type": "code",
   "execution_count": 44,
   "metadata": {},
   "outputs": [
    {
     "name": "stdout",
     "output_type": "stream",
     "text": [
      "Fine-tuned Random Forest Classifier\n",
      "              precision    recall  f1-score   support\n",
      "\n",
      "           0       0.77      0.81      0.79      2978\n",
      "           1       0.78      0.74      0.76      2746\n",
      "\n",
      "    accuracy                           0.78      5724\n",
      "   macro avg       0.78      0.78      0.78      5724\n",
      "weighted avg       0.78      0.78      0.78      5724\n",
      "\n",
      "Runtime: 465.43 seconds\n"
     ]
    }
   ],
   "source": [
    "# t0 = time()\n",
    "# rfc = RandomForestClassifier(n_jobs=-1)\n",
    "# param_dist = {\n",
    "#     'n_estimators': [100, 200], \n",
    "#     'max_depth': [None, 10, 20],\n",
    "#     'min_samples_split': randint(2, 11),\n",
    "#     'min_samples_leaf': randint(1, 11),\n",
    "#     'criterion': ['gini', 'entropy']\n",
    "# }\n",
    "\n",
    "# rnd_cv = RandomizedSearchCV(rfc, param_distributions=param_dist,\n",
    "#                             n_iter=10, cv=3, scoring='accuracy', random_state=42, n_jobs=-1)\n",
    "# rnd_cv.fit(X_train, y_train)\n",
    "# print(\"Best parameters:\", rnd_cv.best_params_)\n",
    "# print(\"Best score:\", rnd_cv.best_score_)\n",
    "rfc = RandomForestClassifier(**rnd_cv.best_params_, n_jobs=-1)\n",
    "rfc.fit(X_train, y_train)\n",
    "preds = rfc.predict(X_test)\n",
    "print(\"Fine-tuned Random Forest Classifier\")\n",
    "print(classification_report(y_test, preds))\n",
    "t1 = time()\n",
    "runtime_rfc_tuned = round(t1-t0, 2)\n",
    "print(f\"Runtime: {runtime_rfc_tuned} seconds\")\n",
    "performance_rfc_tuned = classification_report(y_test, preds, output_dict=True)\n"
   ]
  },
  {
   "cell_type": "code",
   "execution_count": 45,
   "metadata": {},
   "outputs": [
    {
     "data": {
      "image/png": "[encoded data removed]",
      "text/plain": [
       "<Figure size 1000x800 with 1 Axes>"
      ]
     },
     "metadata": {},
     "output_type": "display_data"
    }
   ],
   "source": [
    "importances_df = pd.DataFrame({'Feature': vectorizer.get_feature_names_out(), 'Importance': rfc.feature_importances_}).sort_values(by='Importance', ascending=False)\n",
    "plt.figure(figsize=(10, 8))  # Adjust the size to fit your needs\n",
    "plt.barh(importances_df['Feature'][:20], importances_df['Importance'][:20])  # Top 20 features\n",
    "plt.xlabel('Importance')\n",
    "plt.ylabel('Features')\n",
    "plt.title('Top 20 Important Features from fine-tuned Random Forest (Sarcasm Detection Data)')\n",
    "plt.gca().invert_yaxis()"
   ]
  },
  {
   "cell_type": "code",
   "execution_count": 47,
   "metadata": {},
   "outputs": [
    {
     "data": {
      "text/html": [
       "<div>\n",
       "<style scoped>\n",
       "    .dataframe tbody tr th:only-of-type {\n",
       "        vertical-align: middle;\n",
       "    }\n",
       "\n",
       "    .dataframe tbody tr th {\n",
       "        vertical-align: top;\n",
       "    }\n",
       "\n",
       "    .dataframe thead th {\n",
       "        text-align: right;\n",
       "    }\n",
       "</style>\n",
       "<table border=\"1\" class=\"dataframe\">\n",
       "  <thead>\n",
       "    <tr style=\"text-align: right;\">\n",
       "      <th></th>\n",
       "      <th>Model</th>\n",
       "      <th>Runtime</th>\n",
       "      <th>Accuracy</th>\n",
       "      <th>F1</th>\n",
       "      <th>data</th>\n",
       "    </tr>\n",
       "  </thead>\n",
       "  <tbody>\n",
       "    <tr>\n",
       "      <th>0</th>\n",
       "      <td>Decision Tree</td>\n",
       "      <td>0.70</td>\n",
       "      <td>0.840449</td>\n",
       "      <td>0.840706</td>\n",
       "      <td>bbc news</td>\n",
       "    </tr>\n",
       "    <tr>\n",
       "      <th>1</th>\n",
       "      <td>Decision Tree fine-tuned</td>\n",
       "      <td>14.45</td>\n",
       "      <td>0.817978</td>\n",
       "      <td>0.822761</td>\n",
       "      <td>bbc news</td>\n",
       "    </tr>\n",
       "    <tr>\n",
       "      <th>2</th>\n",
       "      <td>Decision Tree</td>\n",
       "      <td>11.28</td>\n",
       "      <td>0.725891</td>\n",
       "      <td>0.725137</td>\n",
       "      <td>sarcasm detection</td>\n",
       "    </tr>\n",
       "    <tr>\n",
       "      <th>3</th>\n",
       "      <td>Decision Tree fine-tuned</td>\n",
       "      <td>58.69</td>\n",
       "      <td>0.629804</td>\n",
       "      <td>0.590813</td>\n",
       "      <td>sarcasm detection</td>\n",
       "    </tr>\n",
       "    <tr>\n",
       "      <th>4</th>\n",
       "      <td>Random Forest</td>\n",
       "      <td>3.13</td>\n",
       "      <td>0.975281</td>\n",
       "      <td>0.975275</td>\n",
       "      <td>bbc news</td>\n",
       "    </tr>\n",
       "    <tr>\n",
       "      <th>5</th>\n",
       "      <td>Random Forest</td>\n",
       "      <td>63.46</td>\n",
       "      <td>0.763277</td>\n",
       "      <td>0.761070</td>\n",
       "      <td>sarcasm detection</td>\n",
       "    </tr>\n",
       "    <tr>\n",
       "      <th>6</th>\n",
       "      <td>Random Forest fine-tuned</td>\n",
       "      <td>465.43</td>\n",
       "      <td>0.776555</td>\n",
       "      <td>0.776098</td>\n",
       "      <td>sarcasm detection</td>\n",
       "    </tr>\n",
       "  </tbody>\n",
       "</table>\n",
       "</div>"
      ],
      "text/plain": [
       "                      Model  Runtime  Accuracy        F1               data\n",
       "0             Decision Tree     0.70  0.840449  0.840706           bbc news\n",
       "1  Decision Tree fine-tuned    14.45  0.817978  0.822761           bbc news\n",
       "2             Decision Tree    11.28  0.725891  0.725137  sarcasm detection\n",
       "3  Decision Tree fine-tuned    58.69  0.629804  0.590813  sarcasm detection\n",
       "4             Random Forest     3.13  0.975281  0.975275           bbc news\n",
       "5             Random Forest    63.46  0.763277  0.761070  sarcasm detection\n",
       "6  Random Forest fine-tuned   465.43  0.776555  0.776098  sarcasm detection"
      ]
     },
     "execution_count": 47,
     "metadata": {},
     "output_type": "execute_result"
    }
   ],
   "source": [
    "data = pd.concat([data,\n",
    "                  pd.DataFrame({\n",
    "                      'Model': ['Random Forest', 'Random Forest fine-tuned'],\n",
    "                      'Runtime': [runtime_rfc_simple, runtime_rfc_tuned],\n",
    "                      'Accuracy': [performance_rfc_simple['accuracy'], performance_rfc_tuned['accuracy']],\n",
    "                      'F1': [performance_rfc_simple['weighted avg']['f1-score'], performance_rfc_tuned['weighted avg']['f1-score']],\n",
    "                      'data': ['sarcasm detection', 'sarcasm detection']\n",
    "                  })], ignore_index=True)\n",
    "data"
   ]
  },
  {
   "cell_type": "code",
   "execution_count": 48,
   "metadata": {},
   "outputs": [],
   "source": [
    "data.to_csv(\"../data/evaluation_data_2.csv\", index=False)"
   ]
  },
  {
   "cell_type": "code",
   "execution_count": null,
   "metadata": {},
   "outputs": [],
   "source": []
  }
 ],
 "metadata": {
  "kernelspec": {
   "display_name": "base",
   "language": "python",
   "name": "python3"
  },
  "language_info": {
   "codemirror_mode": {
    "name": "ipython",
    "version": 3
   },
   "file_extension": ".py",
   "mimetype": "text/x-python",
   "name": "python",
   "nbconvert_exporter": "python",
   "pygments_lexer": "ipython3",
   "version": "3.11.7"
  }
 },
 "nbformat": 4,
 "nbformat_minor": 2
}
